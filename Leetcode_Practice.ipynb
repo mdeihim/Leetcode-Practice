{
  "nbformat": 4,
  "nbformat_minor": 0,
  "metadata": {
    "colab": {
      "provenance": [],
      "authorship_tag": "ABX9TyPKSps7d2KOTbCh9CfB+rrq",
      "include_colab_link": true
    },
    "kernelspec": {
      "name": "python3",
      "display_name": "Python 3"
    },
    "language_info": {
      "name": "python"
    }
  },
  "cells": [
    {
      "cell_type": "markdown",
      "metadata": {
        "id": "view-in-github",
        "colab_type": "text"
      },
      "source": [
        "<a href=\"https://colab.research.google.com/github/mdeihim/Leetcode-Practice/blob/main/Leetcode_Practice.ipynb\" target=\"_parent\"><img src=\"https://colab.research.google.com/assets/colab-badge.svg\" alt=\"Open In Colab\"/></a>"
      ]
    },
    {
      "cell_type": "markdown",
      "source": [
        "# Roman Numeral to Integer"
      ],
      "metadata": {
        "id": "qL_cTAUtSQsC"
      }
    },
    {
      "cell_type": "code",
      "execution_count": null,
      "metadata": {
        "colab": {
          "base_uri": "https://localhost:8080/"
        },
        "id": "O7Qs-FkhXL23",
        "outputId": "79b71244-db93-44f6-c0dc-7af469024bd7"
      },
      "outputs": [
        {
          "output_type": "stream",
          "name": "stdout",
          "text": [
            "58\n"
          ]
        }
      ],
      "source": [
        "\n",
        "def romanToInt(s):\n",
        "  dict = {'': 0, 'I': 1, 'V': 5,'X': 10,'L': 50,'C': 100,'D': 500,'M': 1000}\n",
        "  lastchar = s[0]\n",
        "  number = dict[lastchar]\n",
        "  for char in s[1:]: # slicing lets you start at second char\n",
        "    if dict[lastchar] < dict[char]:\n",
        "      number += (dict[char]-2*dict[lastchar])\n",
        "    else:\n",
        "      number += dict[char]\n",
        "    lastchar = char\n",
        "  return number\n",
        "\n",
        "print(romanToInt('LVIII'))\n"
      ]
    },
    {
      "cell_type": "markdown",
      "source": [
        "# Problem 2\n",
        "\n",
        "**Adding two numbers**: Linked list"
      ],
      "metadata": {
        "id": "PFkFpWOlSTeI"
      }
    },
    {
      "cell_type": "code",
      "source": [
        "#https://www.tutorialspoint.com/add-two-numbers-in-python\n",
        "\n",
        "# Definition for singly-linked list.\n",
        "from typing import Optional\n",
        "class ListNode:\n",
        "  def __init__(self, val=0, next=None):\n",
        "    self.val = val\n",
        "    self.next = next\n",
        "\n",
        "class Solution:\n",
        "\n",
        "  def addTwoNumbers(self, l1: Optional[ListNode], l2: Optional[ListNode]) -> Optional[ListNode]:\n",
        "    head = ListNode() #create blank node\n",
        "    cur = head\n",
        "\n",
        "    carry = 0\n",
        "    while l1 or l2:\n",
        "      v1 = l1.val if l1 else 0\n",
        "      v2 = l2.val if l2 else 0\n",
        "\n",
        "      val = v1+v2+carry\n",
        "      carry = val // 10\n",
        "      val = val %10\n",
        "      cur.next = ListNode(val)\n",
        "\n",
        "      cur = cur.next\n",
        "      l1 = l1.next if l1 else None\n",
        "      l2 = l2.next if l2 else None\n",
        "      if (l1 ==None and l2 ==None) and carry !=0:\n",
        "        cur.next = ListNode(carry)\n",
        "    return head.next\n",
        "\n",
        "  def build_linked(self, list):\n",
        "    head = ListNode(list[0])\n",
        "    itr = head\n",
        "    for val in list[1:]:\n",
        "      while itr.next:\n",
        "        itr = itr.next\n",
        "      itr.next = ListNode(val)\n",
        "    return head\n",
        "\n",
        "  def printlinked(self, head):\n",
        "    itr = head\n",
        "    lstr = '['\n",
        "    while itr:\n",
        "      lstr += (str(itr.val) + ',')\n",
        "      itr = itr.next\n",
        "    lstr = lstr+ ']'\n",
        "    return lstr\n",
        "\n",
        "obj = Solution()\n",
        "\n",
        "l1 = obj.build_linked([6,7,8,9,1,2,3,4,5])\n",
        "l2 = obj.build_linked([1,2,3,4,5,6])\n",
        "print(\"list 1: \" + obj.printlinked(l1))\n",
        "print(\"list 2: \" + obj.printlinked(l2))\n",
        "print(\"sum:    \" + obj.printlinked(obj.addTwoNumbers(l1,l2)))\n"
      ],
      "metadata": {
        "id": "xIVHDdltM7fV",
        "colab": {
          "base_uri": "https://localhost:8080/"
        },
        "outputId": "10f1111e-8b16-49d5-83e9-dd369b0c0f07"
      },
      "execution_count": null,
      "outputs": [
        {
          "output_type": "stream",
          "name": "stdout",
          "text": [
            "list 1: [6,7,8,9,1,2,3,4,5,]\n",
            "list 2: [1,2,3,4,5,6,]\n",
            "sum:    [7,9,1,4,7,8,3,4,5,]\n"
          ]
        }
      ]
    },
    {
      "cell_type": "markdown",
      "source": [
        "# Problem 1480 Running Sum of 1d Array"
      ],
      "metadata": {
        "id": "2m2XtFKG0lrn"
      }
    },
    {
      "cell_type": "code",
      "source": [
        "class Solution:\n",
        "    def runningSum(self, nums):\n",
        "      runningSumList = []\n",
        "      sum = 0\n",
        "      for num in nums:\n",
        "        sum += num\n",
        "        runningSumList.append(sum)\n",
        "      return runningSumList\n",
        "\n",
        "    def printList(self, list):\n",
        "      print(list)\n",
        "\n",
        "sol = Solution()\n",
        "list1 = sol.runningSum([1,2,3,4])\n",
        "sol.printList(list1)"
      ],
      "metadata": {
        "colab": {
          "base_uri": "https://localhost:8080/"
        },
        "id": "skcFaW2G0jZQ",
        "outputId": "dcc4660d-bd6a-49a0-b2f5-e3fdc948a5dd"
      },
      "execution_count": null,
      "outputs": [
        {
          "output_type": "stream",
          "name": "stdout",
          "text": [
            "[1, 3, 6, 10]\n"
          ]
        }
      ]
    },
    {
      "cell_type": "markdown",
      "source": [
        "# Problem 724. Find Pivot Index"
      ],
      "metadata": {
        "id": "TA2cNTfrNlA_"
      }
    },
    {
      "cell_type": "code",
      "source": [
        "# nums = [1,7,3,6,5,6]    pivot = 3\n",
        "# nums = [3,7,1,1,1]    -1,-1,0,1,1,0\n",
        "\n",
        "class Solution:\n",
        "    def pivotIndex(self, nums):\n",
        "      leftsum = 0\n",
        "      rightsum = 0\n",
        "      for num in nums[1:]:\n",
        "        rightsum += num\n",
        "      if rightsum == 0:\n",
        "        return 0\n",
        "      for idx, num in enumerate(nums[:len(nums)-1]):\n",
        "        leftsum += num\n",
        "        rightsum -= nums[idx +1]\n",
        "        if leftsum == rightsum:\n",
        "          return idx +1\n",
        "      return -1\n",
        "\n",
        "\n",
        "sol = Solution()\n",
        "print(sol.pivotIndex([-1,-1,0,1,1,0]))\n",
        "\n"
      ],
      "metadata": {
        "colab": {
          "base_uri": "https://localhost:8080/"
        },
        "id": "T0KBJglQNrWj",
        "outputId": "54eefdda-b814-4bda-b03a-31f228711613"
      },
      "execution_count": null,
      "outputs": [
        {
          "output_type": "stream",
          "name": "stdout",
          "text": [
            "leftsum:  0     rightsum:   1\n",
            "leftsum:  -1     rightsum:   2\n",
            "leftsum:  -2     rightsum:   2\n",
            "leftsum:  -2     rightsum:   1\n",
            "leftsum:  -1     rightsum:   0\n",
            "5\n"
          ]
        }
      ]
    },
    {
      "cell_type": "markdown",
      "source": [
        "# 205. Isomorphic Strings"
      ],
      "metadata": {
        "id": "8HZbNRavye_q"
      }
    },
    {
      "cell_type": "code",
      "source": [
        "class Solution:\n",
        "    def isIsomorphic(self, s: str, t: str) -> bool:\n",
        "      map = {}\n",
        "      for idx, char in enumerate(s):\n",
        "        if char in map.keys():\n",
        "          if (t[idx] != map[char]):\n",
        "           return False\n",
        "        else:\n",
        "          if t[idx] in map.values():\n",
        "            return False\n",
        "          temp = {char: t[idx]}\n",
        "\n",
        "      return True\n",
        "\n",
        "sol = Solution()\n",
        "print(sol.isIsomorphic('add', 'egg'))"
      ],
      "metadata": {
        "colab": {
          "base_uri": "https://localhost:8080/"
        },
        "id": "Yp30TD3DybDJ",
        "outputId": "773b5dc7-a7f1-4546-da87-339b1d35f474"
      },
      "execution_count": null,
      "outputs": [
        {
          "output_type": "stream",
          "name": "stdout",
          "text": [
            "True\n"
          ]
        }
      ]
    },
    {
      "cell_type": "markdown",
      "source": [
        "# Problem 704. Binary Search"
      ],
      "metadata": {
        "id": "r2U5dVUA1bOd"
      }
    },
    {
      "cell_type": "code",
      "source": [
        "class Solution:\n",
        "    def search(self, nums, target) -> int:\n",
        "\n",
        "      left = 0\n",
        "      right = len(nums) -1\n",
        "\n",
        "      while right>=left:\n",
        "        half = ((right+left)//2)\n",
        "\n",
        "        # halfway point is target\n",
        "        if nums[half] == target:\n",
        "          return half\n",
        "        # if halfway point is smaller than target\n",
        "        elif target > nums[half]:\n",
        "          left = half+1\n",
        "        # if halfway point is larger than target\n",
        "        else:\n",
        "          right = half -1\n",
        "      return -1\n",
        "\n",
        "\n",
        "\n",
        "\n",
        "sol = Solution()\n",
        "nums = [-1,0,1,2,3,4,5,6,7,8,9,10,11]\n",
        "target = 3\n",
        "sol.search(nums,target)"
      ],
      "metadata": {
        "colab": {
          "base_uri": "https://localhost:8080/"
        },
        "id": "K_5nwrRbj4iT",
        "outputId": "ab91c39a-8d51-491b-c8bd-39f48dce192f"
      },
      "execution_count": null,
      "outputs": [
        {
          "output_type": "stream",
          "name": "stdout",
          "text": [
            "half:  6\n",
            "left:  0\n",
            "right:  12\n",
            "half:  2\n",
            "left:  0\n",
            "right:  5\n",
            "half:  4\n",
            "left:  3\n",
            "right:  5\n"
          ]
        },
        {
          "output_type": "execute_result",
          "data": {
            "text/plain": [
              "4"
            ]
          },
          "metadata": {},
          "execution_count": 43
        }
      ]
    },
    {
      "cell_type": "markdown",
      "source": [
        "# Problem 278. First Bad Version"
      ],
      "metadata": {
        "id": "wqNZ5eg-1kfq"
      }
    },
    {
      "cell_type": "code",
      "source": [
        "# The isBadVersion API is already defined for you.\n",
        "def isBadVersion(version: int) -> bool:\n",
        "  if version >= 3:\n",
        "    return True\n",
        "\n",
        "#[1,2,3,4,5]\n",
        "class Solution:\n",
        "    def firstBadVersion(self, right) -> int:\n",
        "        left = 1\n",
        "\n",
        "        while(right > left):\n",
        "\n",
        "          mid = (left+right)//2\n",
        "          # bad version is earlier\n",
        "          if isBadVersion(mid):\n",
        "            right = mid\n",
        "          # Bad version hasn't occurred yet\n",
        "          else:\n",
        "            left = mid +1\n",
        "          # print('left  ', left)\n",
        "          # print('right  ', right)\n",
        "          # print('mid:  ', mid)\n",
        "        return left\n",
        "\n",
        "\n",
        "sol = Solution()\n",
        "print(sol.firstBadVersion(5))"
      ],
      "metadata": {
        "colab": {
          "base_uri": "https://localhost:8080/"
        },
        "id": "tbZvBs_a1jx5",
        "outputId": "5a739f65-ffa7-4e85-97b6-11a4c1315083"
      },
      "execution_count": null,
      "outputs": [
        {
          "output_type": "stream",
          "name": "stdout",
          "text": [
            "left   1\n",
            "right   3\n",
            "mid:   3\n",
            "left   3\n",
            "right   3\n",
            "mid:   2\n",
            "3\n"
          ]
        }
      ]
    },
    {
      "cell_type": "markdown",
      "source": [
        "# Problem 35. Search Insert Position"
      ],
      "metadata": {
        "id": "k6fk83LQKEYJ"
      }
    },
    {
      "cell_type": "code",
      "source": [
        "class Solution:\n",
        "    def searchInsert(self, nums, target):\n",
        "      left = 0\n",
        "      right = len(nums) - 1\n",
        "\n",
        "\n",
        "      # print('left  ', left)\n",
        "      # print('right  ', right)\n",
        "\n",
        "      while (right >= left):\n",
        "        mid = (left + right)//2\n",
        "        # print('mid:  ', mid)\n",
        "\n",
        "        if nums[mid] == target:\n",
        "          return mid\n",
        "        if nums[mid] < target:\n",
        "          left = mid+1\n",
        "        else:\n",
        "          right = mid -1\n",
        "        # print('left  ', left)\n",
        "        # print('right  ', right)\n",
        "\n",
        "      return left\n",
        "\n",
        "\n",
        "sol = Solution()\n",
        "nums = [1,2,3,5,6]\n",
        "target = 7\n",
        "print(sol.searchInsert(nums,target))\n",
        "\n"
      ],
      "metadata": {
        "id": "XNCuiEzfKEqH",
        "colab": {
          "base_uri": "https://localhost:8080/"
        },
        "outputId": "a10d248b-274e-43d9-c417-3ba8b302cfc0"
      },
      "execution_count": null,
      "outputs": [
        {
          "output_type": "stream",
          "name": "stdout",
          "text": [
            "left   0\n",
            "right   4\n",
            "mid:   2\n",
            "left   3\n",
            "right   4\n",
            "mid:   3\n",
            "left   4\n",
            "right   4\n",
            "mid:   4\n",
            "left   5\n",
            "right   4\n",
            "5\n"
          ]
        }
      ]
    },
    {
      "cell_type": "markdown",
      "source": [
        "# Problem 977. Squares of a Sorted Array"
      ],
      "metadata": {
        "id": "NugIBmNl08PY"
      }
    },
    {
      "cell_type": "code",
      "source": [
        "# Square and sort O(nlogn)\n",
        "class Solution:\n",
        "    def sortedSquares(self, nums):\n",
        "      nums = sorted(list(map(lambda x: x**2, nums)))\n",
        "      return nums\n",
        "sol = Solution()\n",
        "print(sol.sortedSquares([-4,-1,0,3,10]))\n",
        ""
      ],
      "metadata": {
        "colab": {
          "base_uri": "https://localhost:8080/"
        },
        "id": "XoDTFsd9wsHq",
        "outputId": "6a838c54-fed3-4f37-c92e-b61fd7520e90"
      },
      "execution_count": null,
      "outputs": [
        {
          "output_type": "stream",
          "name": "stdout",
          "text": [
            "[0, 1, 9, 16, 100]\n"
          ]
        }
      ]
    },
    {
      "cell_type": "code",
      "source": [
        "# 2 pointer solution O(n)\n",
        "\n",
        "class Solution:\n",
        "    def sortedSquares(self, nums):\n",
        "      result = nums.copy()\n",
        "      left = 0\n",
        "      right = len(nums)-1\n",
        "      for i in range(len(result)):\n",
        "        if abs(nums[left]) > abs(nums[right]):\n",
        "          result[len(nums)-1-i] = nums[left]**2\n",
        "          left +=1\n",
        "        else:\n",
        "          result[len(nums)-1-i] = nums[right]**2\n",
        "          right-=1\n",
        "      return result\n",
        "\n",
        "sol = Solution()\n",
        "print(sol.sortedSquares([-200,-2,-1,3,7,20]))\n"
      ],
      "metadata": {
        "colab": {
          "base_uri": "https://localhost:8080/"
        },
        "id": "2stRdYeo07v6",
        "outputId": "ffa1a3f1-55fe-4f99-b666-6b1d3ecfada8"
      },
      "execution_count": null,
      "outputs": [
        {
          "output_type": "stream",
          "name": "stdout",
          "text": [
            "[1, 4, 9, 49, 400, 40000]\n"
          ]
        }
      ]
    },
    {
      "cell_type": "markdown",
      "source": [
        "# Problem 189. Rotate Array"
      ],
      "metadata": {
        "id": "GTb0bYN27j-Y"
      }
    },
    {
      "cell_type": "code",
      "source": [
        "class Solution:\n",
        "    def rotate(self, nums, k):\n",
        "      for i in range(k):\n",
        "        nums.insert(0,nums[len(nums)-1])\n",
        "        nums.pop()\n",
        "\n",
        "      return nums\n",
        "\n",
        "sol = Solution()\n",
        "print(sol.rotate([1,2,3,4,5,6,7],3))"
      ],
      "metadata": {
        "colab": {
          "base_uri": "https://localhost:8080/"
        },
        "id": "nMuo9NtnreES",
        "outputId": "40997cd7-eb5c-4113-9f9d-e35bb242617c"
      },
      "execution_count": null,
      "outputs": [
        {
          "output_type": "stream",
          "name": "stdout",
          "text": [
            "[5, 6, 7, 1, 2, 3, 4]\n"
          ]
        }
      ]
    },
    {
      "cell_type": "code",
      "source": [
        "class Solution:\n",
        "    def rotate(self, nums, k):\n",
        "      nums = nums[-(k%len(nums)):] + nums[:-(k%len(nums))]\n",
        "      print(-(k%len(nums)))\n",
        "      print(nums)\n",
        "\n",
        "sol = Solution()\n",
        "sol.rotate([1,2,3,4,5,6,7],3)"
      ],
      "metadata": {
        "colab": {
          "base_uri": "https://localhost:8080/"
        },
        "id": "_O-7nwKk-Nuo",
        "outputId": "6a6ddd0e-c807-4c6b-c1e6-2eef79be6642"
      },
      "execution_count": null,
      "outputs": [
        {
          "output_type": "stream",
          "name": "stdout",
          "text": [
            "-3\n",
            "[5, 6, 7, 1, 2, 3, 4]\n"
          ]
        }
      ]
    },
    {
      "cell_type": "markdown",
      "source": [
        "# Problem 283. Move Zeroes"
      ],
      "metadata": {
        "id": "yvw4boCIVaXd"
      }
    },
    {
      "cell_type": "code",
      "source": [
        "# Two Pointer Solution (fastest)\n",
        "\n",
        "class Solution:\n",
        "    def moveZeroes(self, nums: List[int]) -> None:\n",
        "        left = 0\n",
        "        for right in range(len(nums)):\n",
        "            if nums[right] != 0:\n",
        "                nums[left], nums[right] = nums[right], nums[left]\n",
        "                left+=1\n",
        ""
      ],
      "metadata": {
        "id": "uj5CUwjkY8Su"
      },
      "execution_count": null,
      "outputs": []
    },
    {
      "cell_type": "code",
      "source": [
        "# Iteratitive solution (slow)\n",
        "class Solution:\n",
        "    def moveZeroes(self, nums: List[int]) -> None:\n",
        "        X = True\n",
        "        list2 = []\n",
        "        while X:\n",
        "            try:\n",
        "                nums.remove(0)\n",
        "                list2.append(0)\n",
        "            except:\n",
        "                break\n",
        "        nums+=list2"
      ],
      "metadata": {
        "colab": {
          "base_uri": "https://localhost:8080/",
          "height": 357
        },
        "id": "Z8AHPnF0ZWLD",
        "outputId": "fa0a1d03-b3f1-4a5a-993c-473bb63b5467"
      },
      "execution_count": null,
      "outputs": [
        {
          "output_type": "error",
          "ename": "NameError",
          "evalue": "ignored",
          "traceback": [
            "\u001b[0;31m---------------------------------------------------------------------------\u001b[0m",
            "\u001b[0;31mNameError\u001b[0m                                 Traceback (most recent call last)",
            "\u001b[0;32m<ipython-input-1-6672f721d40b>\u001b[0m in \u001b[0;36m<module>\u001b[0;34m\u001b[0m\n\u001b[0;32m----> 1\u001b[0;31m \u001b[0;32mclass\u001b[0m \u001b[0mSolution\u001b[0m\u001b[0;34m:\u001b[0m\u001b[0;34m\u001b[0m\u001b[0;34m\u001b[0m\u001b[0m\n\u001b[0m\u001b[1;32m      2\u001b[0m     \u001b[0;32mdef\u001b[0m \u001b[0mmoveZeroes\u001b[0m\u001b[0;34m(\u001b[0m\u001b[0mself\u001b[0m\u001b[0;34m,\u001b[0m \u001b[0mnums\u001b[0m\u001b[0;34m:\u001b[0m \u001b[0mList\u001b[0m\u001b[0;34m[\u001b[0m\u001b[0mint\u001b[0m\u001b[0;34m]\u001b[0m\u001b[0;34m)\u001b[0m \u001b[0;34m->\u001b[0m \u001b[0;32mNone\u001b[0m\u001b[0;34m:\u001b[0m\u001b[0;34m\u001b[0m\u001b[0;34m\u001b[0m\u001b[0m\n\u001b[1;32m      3\u001b[0m         \u001b[0mlist2\u001b[0m \u001b[0;34m=\u001b[0m \u001b[0;34m[\u001b[0m\u001b[0;34m]\u001b[0m\u001b[0;34m\u001b[0m\u001b[0;34m\u001b[0m\u001b[0m\n\u001b[1;32m      4\u001b[0m         \u001b[0;32mfor\u001b[0m \u001b[0mnum\u001b[0m \u001b[0;32min\u001b[0m \u001b[0mnums\u001b[0m\u001b[0;34m:\u001b[0m\u001b[0;34m\u001b[0m\u001b[0;34m\u001b[0m\u001b[0m\n\u001b[1;32m      5\u001b[0m             \u001b[0;32mtry\u001b[0m\u001b[0;34m:\u001b[0m\u001b[0;34m\u001b[0m\u001b[0;34m\u001b[0m\u001b[0m\n",
            "\u001b[0;32m<ipython-input-1-6672f721d40b>\u001b[0m in \u001b[0;36mSolution\u001b[0;34m()\u001b[0m\n\u001b[1;32m      1\u001b[0m \u001b[0;32mclass\u001b[0m \u001b[0mSolution\u001b[0m\u001b[0;34m:\u001b[0m\u001b[0;34m\u001b[0m\u001b[0;34m\u001b[0m\u001b[0m\n\u001b[0;32m----> 2\u001b[0;31m     \u001b[0;32mdef\u001b[0m \u001b[0mmoveZeroes\u001b[0m\u001b[0;34m(\u001b[0m\u001b[0mself\u001b[0m\u001b[0;34m,\u001b[0m \u001b[0mnums\u001b[0m\u001b[0;34m:\u001b[0m \u001b[0mList\u001b[0m\u001b[0;34m[\u001b[0m\u001b[0mint\u001b[0m\u001b[0;34m]\u001b[0m\u001b[0;34m)\u001b[0m \u001b[0;34m->\u001b[0m \u001b[0;32mNone\u001b[0m\u001b[0;34m:\u001b[0m\u001b[0;34m\u001b[0m\u001b[0;34m\u001b[0m\u001b[0m\n\u001b[0m\u001b[1;32m      3\u001b[0m         \u001b[0mlist2\u001b[0m \u001b[0;34m=\u001b[0m \u001b[0;34m[\u001b[0m\u001b[0;34m]\u001b[0m\u001b[0;34m\u001b[0m\u001b[0;34m\u001b[0m\u001b[0m\n\u001b[1;32m      4\u001b[0m         \u001b[0;32mfor\u001b[0m \u001b[0mnum\u001b[0m \u001b[0;32min\u001b[0m \u001b[0mnums\u001b[0m\u001b[0;34m:\u001b[0m\u001b[0;34m\u001b[0m\u001b[0;34m\u001b[0m\u001b[0m\n\u001b[1;32m      5\u001b[0m             \u001b[0;32mtry\u001b[0m\u001b[0;34m:\u001b[0m\u001b[0;34m\u001b[0m\u001b[0;34m\u001b[0m\u001b[0m\n",
            "\u001b[0;31mNameError\u001b[0m: name 'List' is not defined"
          ]
        }
      ]
    },
    {
      "cell_type": "markdown",
      "source": [
        "# 167. Two Sum II - Input Array Is Sorted"
      ],
      "metadata": {
        "id": "tvI-jSDLZ73Y"
      }
    },
    {
      "cell_type": "code",
      "source": [
        "class Solution:\n",
        "    def twoSum(self, numbers, target):\n",
        "\n",
        "      result = []\n",
        "      for left in range(len(numbers)):\n",
        "        for right in range(left+1,len(numbers)):\n",
        "          if numbers[left]+numbers[right] == target:\n",
        "            result = [left+1, right+1]\n",
        "            return result\n",
        "\n",
        "sol = Solution()\n",
        "print(sol.twoSum([2,7,11,15],9))"
      ],
      "metadata": {
        "colab": {
          "base_uri": "https://localhost:8080/"
        },
        "id": "dpPdBXjRZ7Ym",
        "outputId": "458708e0-88ca-4b90-cca4-b76cbfa3db98"
      },
      "execution_count": null,
      "outputs": [
        {
          "output_type": "stream",
          "name": "stdout",
          "text": [
            "[1, 2]\n"
          ]
        }
      ]
    },
    {
      "cell_type": "code",
      "source": [
        "# Better solution\n",
        "\n",
        "class Solution:\n",
        "    def twoSum(self, numbers, target):\n",
        "      left, right = 0, len(numbers)-1\n",
        "      while right>left:\n",
        "        if numbers[right]+numbers[left]<target:\n",
        "          left+=1\n",
        "        elif numbers[right]+numbers[left]>target:\n",
        "          right -=1\n",
        "        else:\n",
        "          return [left+1,right+1]\n",
        "\n",
        "\n",
        "\n",
        "sol = Solution()\n",
        "print(sol.twoSum([2,7,11,15],9))"
      ],
      "metadata": {
        "colab": {
          "base_uri": "https://localhost:8080/"
        },
        "id": "283Pn9NjM7BU",
        "outputId": "f9c1c249-c129-4ade-d3be-8bbed65d718b"
      },
      "execution_count": null,
      "outputs": [
        {
          "output_type": "stream",
          "name": "stdout",
          "text": [
            "[1, 2]\n"
          ]
        }
      ]
    },
    {
      "cell_type": "markdown",
      "source": [
        "# Problem 344. Reverse String"
      ],
      "metadata": {
        "id": "kDXqD8OFPHbY"
      }
    },
    {
      "cell_type": "code",
      "source": [
        "class Solution:\n",
        "    def reverseString(self, s):\n",
        "      left, right = 0, len(s)-1\n",
        "      while right>left:\n",
        "        s[left], s[right] = s[right],s[left]\n",
        "        right-=1\n",
        "        left+=1\n",
        "      return s\n",
        "\n",
        "sol = Solution()\n",
        "print(sol.reverseString([\"h\",\"e\",\"l\",\"l\",\"o\"]))"
      ],
      "metadata": {
        "colab": {
          "base_uri": "https://localhost:8080/"
        },
        "id": "9CRW0cX6PKTZ",
        "outputId": "ef79d52b-0bc6-4336-b510-e880fdcd3092"
      },
      "execution_count": null,
      "outputs": [
        {
          "output_type": "stream",
          "name": "stdout",
          "text": [
            "['o', 'l', 'l', 'e', 'h']\n"
          ]
        }
      ]
    },
    {
      "cell_type": "markdown",
      "source": [
        "# Problem 557. Reverse Words in a String III"
      ],
      "metadata": {
        "id": "fv-CgYxkiYKi"
      }
    },
    {
      "cell_type": "code",
      "source": [
        "# initial approach\n",
        "class Solution:\n",
        "    def reverseWords(self, s):\n",
        "      s = s.split(' ')\n",
        "      new_string = ''\n",
        "      for word in s[:-1]:\n",
        "        new_string += word[::-1] +\" \"\n",
        "      last = s[len(s)-1]\n",
        "      return new_string + last[::-1]\n",
        "\n",
        "\n",
        "\n",
        "sol = Solution()\n",
        "sol.reverseWords(\"Let's take LeetCode contest\")"
      ],
      "metadata": {
        "colab": {
          "base_uri": "https://localhost:8080/",
          "height": 36
        },
        "id": "K1DYSv8eibR-",
        "outputId": "8d78c510-8589-48eb-fc85-7509fd85c6ff"
      },
      "execution_count": null,
      "outputs": [
        {
          "output_type": "execute_result",
          "data": {
            "text/plain": [
              "\"s'teL ekat edoCteeL tsetnoc\""
            ],
            "application/vnd.google.colaboratory.intrinsic+json": {
              "type": "string"
            }
          },
          "metadata": {},
          "execution_count": 33
        }
      ]
    },
    {
      "cell_type": "markdown",
      "source": [
        "# Problem 876. Middle of the Linked List"
      ],
      "metadata": {
        "id": "kCuyM1NsoAhr"
      }
    },
    {
      "cell_type": "code",
      "source": [
        "# By the time the fast pointer makes it to the end of the list,\n",
        "# slow will be right in the middle since the fast pointer goes\n",
        "# through the list twice as quickly as the slow pointer.\n",
        "\n",
        "class ListNode:\n",
        "    def __init__(self, val=0, next=None):\n",
        "        self.val = val\n",
        "        self.next = next\n",
        "class Solution:\n",
        "    def middleNode(self, head):\n",
        "      slow = fast = head\n",
        "      while fast and fast.next:\n",
        "        slow = slow.next\n",
        "        fast = fast.next.next\n",
        "      return slow\n",
        "\n",
        "sol = Solution()\n",
        "head = ListNode(1)\n",
        "second = ListNode(2)\n",
        "head.next=second\n",
        "third = ListNode(3)\n",
        "second.next = third\n",
        "fourth = ListNode(4)\n",
        "third.next = fourth\n",
        "fifth = ListNode(5)\n",
        "fourth.next = fifth\n",
        "sixth = ListNode(6)\n",
        "fifth.next = sixth\n",
        "print(sol.middleNode(head).val)\n",
        "\n",
        "\n",
        "# 1->2->3->4->5->6"
      ],
      "metadata": {
        "id": "t8SXI722oAB6",
        "colab": {
          "base_uri": "https://localhost:8080/"
        },
        "outputId": "92479a9b-912b-4862-deaf-280b484d3e4f"
      },
      "execution_count": null,
      "outputs": [
        {
          "output_type": "stream",
          "name": "stdout",
          "text": [
            "4\n"
          ]
        }
      ]
    },
    {
      "cell_type": "markdown",
      "source": [
        "# Problem 19. Remove Nth Node From End of List"
      ],
      "metadata": {
        "id": "G4YcNhp42sw-"
      }
    },
    {
      "cell_type": "code",
      "source": [
        "class ListNode:\n",
        "    def __init__(self, val=0, next=None):\n",
        "        self.val = val\n",
        "        self.next = next\n",
        "class Solution:\n",
        "    def removeNthFromEnd(self, head,n):\n",
        "      dummy = ListNode(0,head)\n",
        "      left = dummy\n",
        "\n",
        "      # Two pointer solution: left pointer starts at beginning node, while the right pointer\n",
        "      # starts n nodes away. they are both incremented by 1, so when the right node reaches the end, the left\n",
        "      # pointer is n nodes away from the end\n",
        "      while n>0 and head:\n",
        "        head = head.next\n",
        "        n-=1\n",
        "\n",
        "      while head:\n",
        "        head = head.next\n",
        "        left = left.next\n",
        "      # Skip over the unwanted value\n",
        "      left.next = left.next.next\n",
        "      return dummy.next\n",
        "\n",
        "\n",
        "sol = Solution()\n",
        "head = ListNode(1)\n",
        "second = ListNode(2)\n",
        "head.next=second\n",
        "third = ListNode(3)\n",
        "second.next = third\n",
        "fourth = ListNode(4)\n",
        "third.next = fourth\n",
        "fifth = ListNode(5)\n",
        "fourth.next = fifth\n",
        "# sixth = ListNode(6)\n",
        "# fifth.next = sixth\n",
        "l = sol.removeNthFromEnd(head,2)\n",
        "\n",
        "while l:\n",
        "  print(l.val)\n",
        "  l = l.next\n",
        "# 1->2->3->4->5->6"
      ],
      "metadata": {
        "colab": {
          "base_uri": "https://localhost:8080/"
        },
        "id": "nzv3_2tU2tQL",
        "outputId": "54d1a35a-ddc9-4b1a-db71-ebbb3b9952b8"
      },
      "execution_count": null,
      "outputs": [
        {
          "output_type": "stream",
          "name": "stdout",
          "text": [
            "1\n",
            "2\n",
            "3\n",
            "5\n"
          ]
        }
      ]
    },
    {
      "cell_type": "markdown",
      "source": [
        "# Problem 3. Longest Substring Without Repeating Characters"
      ],
      "metadata": {
        "id": "aT2jzP7QF680"
      }
    },
    {
      "cell_type": "code",
      "source": [
        "class Solution:\n",
        "  def lengthOfLongestSubstring(self, s: str) -> int:\n",
        "    substring =''\n",
        "    count = 0\n",
        "    max = 0\n",
        "    for idx, char in enumerate(s):\n",
        "      if char not in substring:\n",
        "        substring+=char\n",
        "        count+=1\n",
        "        if count>max:\n",
        "          max = count\n",
        "      else:\n",
        "        # gives occurance of that string\n",
        "        first_occurance = substring.find(char)\n",
        "        substring = substring[first_occurance+1:] + char\n",
        "        count = len(substring)\n",
        "    return max\n",
        "\n",
        "sol = Solution()\n",
        "sol.lengthOfLongestSubstring(\"dvdf\")"
      ],
      "metadata": {
        "colab": {
          "base_uri": "https://localhost:8080/"
        },
        "id": "5KtUVPf6GH40",
        "outputId": "06cad13f-8768-4fbb-f3d9-923c627c3cbc"
      },
      "execution_count": null,
      "outputs": [
        {
          "output_type": "stream",
          "name": "stdout",
          "text": [
            "vd\n"
          ]
        },
        {
          "output_type": "execute_result",
          "data": {
            "text/plain": [
              "3"
            ]
          },
          "metadata": {},
          "execution_count": 32
        }
      ]
    },
    {
      "cell_type": "markdown",
      "source": [
        "# Problem 567. Permutation in string"
      ],
      "metadata": {
        "id": "RsrvgZ10Okjw"
      }
    },
    {
      "cell_type": "code",
      "source": [
        "class Solution:\n",
        "    def checkInclusion(self, s1, s2):\n",
        "\n",
        "      if len(s1)>len(s2):\n",
        "        return False\n",
        "\n",
        "      s1copy = s1\n",
        "      substring = ''\n",
        "      for char in s2:\n",
        "        if char in s1copy:\n",
        "          substring += char\n",
        "          if len(substring) == len(s1):\n",
        "            return True\n",
        "          s1copy = s1copy.replace(char, '', 1) #remove first instance of char\n",
        "        elif char in s1:\n",
        "          first_occurance = substring.find(char)\n",
        "          substring = substring[first_occurance+1:] + char\n",
        "          s1copy = s1\n",
        "          for s in substring:\n",
        "            s1copy = s1copy.replace(s,'',1)\n",
        "        else:\n",
        "          s1copy = s1\n",
        "          substring = ''\n",
        "      return False\n",
        "\n",
        "s1 = \"rmqqh\"\n",
        "s2 = \"nrsqrqhrymf\"\n",
        "sol = Solution()\n",
        "sol.checkInclusion(s1,s2)\n",
        "\n"
      ],
      "metadata": {
        "id": "poQfCvVtOKkf",
        "colab": {
          "base_uri": "https://localhost:8080/"
        },
        "outputId": "24917a62-17ae-40a7-f883-9c770ca624ad"
      },
      "execution_count": null,
      "outputs": [
        {
          "output_type": "execute_result",
          "data": {
            "text/plain": [
              "False"
            ]
          },
          "metadata": {},
          "execution_count": 49
        }
      ]
    },
    {
      "cell_type": "markdown",
      "source": [
        "# Problem 1962. Remove Stones to Minimize the Total"
      ],
      "metadata": {
        "id": "AokD7HBOUfeh"
      }
    },
    {
      "cell_type": "code",
      "source": [
        "class MaxHeap:\n",
        "  def __init__(self, piles = []):\n",
        "    super().__init__()\n",
        "    self.heap = [0]\n",
        "    for pile in piles:\n",
        "      self.heap.append(pile)\n",
        "      self._floatup(len(self.heap)-1)\n",
        "\n",
        "  def push(self, pile):\n",
        "      self.heap.append(pile)\n",
        "      self._floatup(len(self.heap)-1)\n",
        "\n",
        "  def peak(self):\n",
        "    if self.heap[1]:\n",
        "      return self.heap[1]\n",
        "    else:\n",
        "      return False\n",
        "\n",
        "  def pop(self):\n",
        "    if (len(self.heap)-1) > 1:\n",
        "      self._swap(1, (len(self.heap)-1))\n",
        "      max = self.heap.pop()\n",
        "      self._bubbledown(1)\n",
        "    elif (len(self.heap)-1) == 1:\n",
        "      max = self.heap.pop()\n",
        "    else:\n",
        "      max = False\n",
        "    return max\n",
        "\n",
        "  def _swap(self, i, j):\n",
        "    self.heap[i], self.heap[j] = self.heap[j] , self.heap[i]\n",
        "\n",
        "  def _floatup(self, index):\n",
        "    parent = index//2\n",
        "    if index <=1:\n",
        "      return\n",
        "    elif self.heap[index] > self.heap[parent]:\n",
        "     self._swap(index, parent)\n",
        "     self._floatup(parent)\n",
        "\n",
        "  def _bubbledown(self, index):\n",
        "    left = index *2\n",
        "    right = index*2+1\n",
        "    largest = index\n",
        "    if len(self.heap) > left and self.heap[largest] <self.heap[left]:\n",
        "      largest = left\n",
        "    if len(self.heap) > right and self.heap[largest] <self.heap[right]:\n",
        "      largest = right\n",
        "    if largest !=index:\n",
        "      self._swap(index,largest)\n",
        "      self._bubbledown(largest)\n",
        "\n",
        "\n",
        "class Solution:\n",
        "\n",
        "    def minStoneSum(self, piles, k):\n",
        "      m = MaxHeap(piles)\n",
        "      for _ in range(k):\n",
        "        top = m.pop() //2\n",
        "        m.push(top)\n",
        "      return sum(m.heap)\n",
        "\n",
        "\n",
        "# m = MaxHeap([5,4,9])\n",
        "# top = m.pop() //2\n",
        "# m.push(top)\n",
        "# print(sum(m.heap))\n",
        "\n",
        "piles = [5,4,9]\n",
        "k = 2\n",
        "sol = Solution()\n",
        "sol.minStoneSum(piles, k)"
      ],
      "metadata": {
        "id": "ZRwofxwYEvPB",
        "colab": {
          "base_uri": "https://localhost:8080/"
        },
        "outputId": "44b48b42-2960-4c9c-ae11-804903816ed6"
      },
      "execution_count": null,
      "outputs": [
        {
          "output_type": "stream",
          "name": "stdout",
          "text": [
            "10\n"
          ]
        }
      ]
    },
    {
      "cell_type": "markdown",
      "source": [
        "# Problem 100. Same Tree"
      ],
      "metadata": {
        "id": "znAtDIE5XYYx"
      }
    },
    {
      "cell_type": "code",
      "source": [
        "# Definition for a binary tree node.\n",
        "class TreeNode:\n",
        "    def __init__(self, val=0, left=None, right=None):\n",
        "        self.val = val\n",
        "        self.left = left\n",
        "        self.right = right\n",
        "class Solution:\n",
        "    def isSameTree(self, p, q):\n",
        "      if not p and not q:\n",
        "        return True\n",
        "      if (not p or not q) or (p.val != q.val):\n",
        "        return False\n",
        "      return (self.isSameTree(p.left,q.left) and self.isSameTree(p.right,q.right))\n",
        "\n",
        "P = TreeNode(1, TreeNode(1), TreeNode(2))\n",
        "Q = TreeNode(1, TreeNode(2), TreeNode(2))\n",
        "\n",
        "sol = Solution()\n",
        "sol.isSameTree(P,Q)\n",
        "\n"
      ],
      "metadata": {
        "colab": {
          "base_uri": "https://localhost:8080/"
        },
        "id": "BBXPYxm3XYsn",
        "outputId": "d60a248c-7d37-499c-bc91-eb34a33484b8"
      },
      "execution_count": 2,
      "outputs": [
        {
          "output_type": "execute_result",
          "data": {
            "text/plain": [
              "False"
            ]
          },
          "metadata": {},
          "execution_count": 2
        }
      ]
    },
    {
      "cell_type": "code",
      "source": [
        "class Solution:\n",
        "    def isSameTree(self, p, q):\n",
        "      if not p and not q:\n",
        "        return True\n",
        "      if (not p or not q) or (p.val != q.val):\n",
        "        return False\n",
        "      return (self.isSameTree(p.left,q.left) and self.isSameTree(p.right,q.right))"
      ],
      "metadata": {
        "id": "LDaZBbGwP99A"
      },
      "execution_count": null,
      "outputs": []
    },
    {
      "cell_type": "markdown",
      "source": [
        "# Problem 1948. Delete Duplicate Folders in System\n",
        "\n",
        "#Revisit this problem"
      ],
      "metadata": {
        "id": "NMavk1luKrYo"
      }
    },
    {
      "cell_type": "code",
      "source": [
        "class Solution:\n",
        "    def deleteDuplicateFolder(self, paths)]: #paths is list of lists\n",
        "\n",
        "patha = ['a','b','c','d', 'e']\n",
        "pathb = ['b','c','d', 'e']\n",
        "pathc = ['c','a','t']"
      ],
      "metadata": {
        "id": "nH2NvK0bKr3y"
      },
      "execution_count": null,
      "outputs": []
    },
    {
      "cell_type": "markdown",
      "source": [
        "# Problem 53. Maximum Subarray\n",
        "\n",
        "https://leetcode.com/problems/maximum-subarray/solutions/4882126/video-visualization-of-kadane-s-algorithm/?envType=study-plan-v2&envId=top-interview-150\n",
        "\n",
        "Given an integer array nums, find the\n",
        "subarray\n",
        " with the largest sum, and return its sum.\n",
        "\n",
        "\n",
        "\n",
        "Example 1:\n",
        "\n",
        "Input: nums = [-2,1,-3,4,-1,2,1,-5,4]\n",
        "Output: 6\n",
        "Explanation: The subarray [4,-1,2,1] has the largest sum 6.\n",
        "Example 2:\n",
        "\n",
        "Input: nums = [1]\n",
        "Output: 1\n",
        "Explanation: The subarray [1] has the largest sum 1.\n",
        "Example 3:\n",
        "\n",
        "Input: nums = [5,4,-1,7,8]\n",
        "Output: 23\n",
        "Explanation: The subarray [5,4,-1,7,8] has the largest sum 23.\n",
        "\n",
        "\n",
        "Constraints:\n",
        "\n",
        "1 <= nums.length <= 105\n",
        "-104 <= nums[i] <= 104\n",
        "\n",
        "\n",
        "Follow up: If you have figured out the O(n) solution, try coding another solution using the divide and conquer approach, which is more subtle."
      ],
      "metadata": {
        "id": "aTRvqkdzRIbN"
      }
    },
    {
      "cell_type": "code",
      "source": [
        "from typing import List\n",
        "from math import inf\n",
        "\n",
        "class Solution:\n",
        "    def maxSubArray(self, nums: List[int]) -> int:\n",
        "        curr_max = 0\n",
        "        overall_max = -inf\n",
        "        for num in nums:\n",
        "            curr_max = max(curr_max + num, num)\n",
        "            overall_max = max(overall_max, curr_max)\n",
        "        return overall_max"
      ],
      "metadata": {
        "id": "gH8-P904R4KG"
      },
      "execution_count": 7,
      "outputs": []
    }
  ]
}